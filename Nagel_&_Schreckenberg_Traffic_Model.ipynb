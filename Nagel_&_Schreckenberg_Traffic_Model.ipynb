{
  "nbformat": 4,
  "nbformat_minor": 0,
  "metadata": {
    "colab": {
      "name": "Nagel & Schreckenberg Traffic Model.ipynb",
      "version": "0.3.2",
      "provenance": []
    },
    "kernelspec": {
      "name": "python3",
      "display_name": "Python 3"
    }
  },
  "cells": [
    {
      "metadata": {
        "id": "wwgY6Cm6NgjO",
        "colab_type": "code",
        "colab": {}
      },
      "cell_type": "code",
      "source": [
        "import random\n",
        "import numpy as np\n",
        "from random import uniform \n",
        "from random import shuffle"
      ],
      "execution_count": 0,
      "outputs": []
    },
    {
      "metadata": {
        "id": "NlDqHKz2N2AZ",
        "colab_type": "code",
        "colab": {}
      },
      "cell_type": "code",
      "source": [
        "class TrafficSimulation():\n",
        "    def __init__(self, road_length, traffic_density, maximum_velocity, p_slowing_down):\n",
        "        self.road_length = road_length\n",
        "        self.traffic_density = traffic_density\n",
        "        self.maximum_velocity = maximum_velocity\n",
        "        self.p_slowing_down = p_slowing_down\n",
        "\n",
        "        self.states = self.cars(self.road_length, self.traffic_density)\n",
        "        self.previous = self.states[-1]\n",
        "        self.current = [-1] * self.road_length\n",
        "\n",
        "    def cars(self, road_length,traffic_density):\n",
        "        # Edit function should be passed a self parameter cars(road_length, traffic_density) won't work\n",
        "        self.number_of_cars = int(road_length*traffic_density)\n",
        "        \n",
        "        # here!        ....\n",
        "        states = [0] * self.number_of_cars + [-1] * (self.road_length - self.number_of_cars)\n",
        "\n",
        "        # randomize the position of cars \n",
        "        shuffle(states)\n",
        "        return states\n",
        "\n",
        "\n",
        "    def update(self, road_length, traffic_density, maximum_velocity, p_slowing_down):\n",
        "        for i in self.states: #here\n",
        "            for cell in range(road_length):\n",
        "                if previous[cell] > -1:\n",
        "                    vel = previous[cell]\n",
        "                    distance = 1\n",
        "                    while prev[(cell + distance) % road_length] < 0:\n",
        "                        distance += 1\n",
        "\n",
        "                    # increase the velocity of the car to either be equal to +1 of the current velocity, or the distance \n",
        "                    # between the car & the next car\n",
        "                    increase_velocity = min(vel +1, distance - 1, maximum_velocity) \n",
        "\n",
        "                    # the velocity of all cars is now reduced by one unit with a probability of p, or sustained\n",
        "                    update_velcoity = max(increase_velocity - 1, 0) if uniform(0,1) < p_slowing_down else increase_velocity \n",
        "\n",
        "                    #update the current cell\n",
        "                    current[(cell + velcoity) % road_length] = velocity\n",
        "\n",
        "                    print(cell,velocity)\n",
        "\n",
        "    def display(self):\n",
        "        print(''.join('.' if cell == -1 else str(cell) for cell in self.states))"
      ],
      "execution_count": 0,
      "outputs": []
    }
  ]
}