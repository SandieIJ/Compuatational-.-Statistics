{
  "nbformat": 4,
  "nbformat_minor": 0,
  "metadata": {
    "colab": {
      "name": "Call Center Staffing using Posterior Probabilities.ipynb",
      "version": "0.3.2",
      "provenance": [],
      "collapsed_sections": []
    },
    "kernelspec": {
      "name": "python3",
      "display_name": "Python 3"
    }
  },
  "cells": [
    {
      "metadata": {
        "id": "gLiqFSZJMrc1",
        "colab_type": "code",
        "outputId": "53894581-3d64-4342-ebb7-9248af3e8636",
        "colab": {
          "base_uri": "https://localhost:8080/",
          "height": 413
        }
      },
      "cell_type": "code",
      "source": [
        "import numpy as np\n",
        "from scipy import stats\n",
        "import matplotlib.pyplot as plt\n",
        "\n",
        "# Load the data set containing durations between calls arriving at the call center.\n",
        "# All values are in minutes.\n",
        "waiting_times_day = np.loadtxt('https://gist.githubusercontent.com/cscheffler/6a03c9473297f21b78363ec7301d19d8/raw/59999cb8c0452b2f2ed3df0b3618a91714fd8837/call_center.csv')\n",
        "print('Size of data set:', len(waiting_times_day))\n",
        "print('First 3 values in data set:', waiting_times_day[:3])\n",
        "print('Sum of data set:', sum(waiting_times_day))\n",
        "\n",
        "# Split the data into 24 separate series, one for each hour of the day\n",
        "current_time = 0\n",
        "\n",
        "# Make 24 empty lists, one per hour\n",
        "waiting_times_per_hour = [[] for _ in range(24)]\n",
        "for t in waiting_times_day:\n",
        "    current_hour = int(current_time // 60)\n",
        "    current_time += t\n",
        "    waiting_times_per_hour[current_hour].append(t)\n",
        "\n",
        "# Plot the number of calls per hour\n",
        "plt.bar(range(24), [len(w) for w in waiting_times_per_hour])\n",
        "plt.title('Number of calls per hour of the day')\n",
        "plt.show()"
      ],
      "execution_count": 0,
      "outputs": [
        {
          "output_type": "stream",
          "text": [
            "Size of data set: 5891\n",
            "First 3 values in data set: [5.36 2.48 8.08]\n",
            "Sum of data set: 1442.145437310004\n"
          ],
          "name": "stdout"
        },
        {
          "output_type": "display_data",
          "data": {
            "image/png": "[encoded data removed]",
            "text/plain": [
              "<matplotlib.figure.Figure at 0x7f610c6267b8>"
            ]
          },
          "metadata": {
            "tags": []
          }
        }
      ]
    },
    {
      "metadata": {
        "id": "eTCcEp624IOL",
        "colab_type": "code",
        "outputId": "f73219ca-8885-4b16-a50e-5100553ad0af",
        "colab": {
          "base_uri": "https://localhost:8080/",
          "height": 1571
        }
      },
      "cell_type": "code",
      "source": [
        "prior_alpha = 1\n",
        "prior_beta = 0.25\n",
        "\n",
        "hour_index = range(24)\n",
        "\n",
        "lambdas = []\n",
        "upper_bounds = []\n",
        "lower_bounds = []\n",
        "for i in range(len(hour_index)):\n",
        "\n",
        "  # Computing the parameters of the posterior gamma distribution for each hour — using the table on Wikipedia and a gamma distriution with parameters α=1 and β=0.25 as  prior\n",
        "  waiting_times_hour = waiting_times_per_hour[hour_index[i]]\n",
        "  posterior_alpha = prior_alpha + len(waiting_times_hour)\n",
        "  posterior_beta = prior_beta + sum(waiting_times_hour)\n",
        "  print('Posterior α = %.1f, β = %.1f' % (posterior_alpha, posterior_beta))\n",
        "\n",
        "  # Computing a 95% posterior confidence interval over the number of calls per minute (the call rate λ ) for each hour of the day\n",
        "  posterior = stats.gamma(a=posterior_alpha, scale=1/posterior_beta)\n",
        "  confidence_95 = (posterior.ppf(0.025), posterior.ppf(0.975))\n",
        "  print('Posterior 95%% confidence interval over λ: [%.1f, %.1f]' % confidence_95)\n",
        "\n",
        "  # Computing the posterior mean of λ for each hour of the day.\n",
        "  lambda_ = posterior.mean()\n",
        "  print('Posterior λ = %.2f' %lambda_)\n",
        "\n",
        "  upper_bound = [posterior.ppf(0.975) - lambda_]\n",
        "  lower_bound = [lambda_ - posterior.ppf(0.025)]\n",
        "  \n",
        "  lambdas.append(lambda_)\n",
        "  upper_bounds.append(upper_bound)\n",
        "  lower_bounds.append(lower_bound)\n",
        "\n",
        "plt.errorbar(hour_index, lambdas, yerr=[lower_bounds,upper_bounds],fmt='o')\n",
        "plt.show()\n"
      ],
      "execution_count": 0,
      "outputs": [
        {
          "output_type": "stream",
          "text": [
            "Posterior α = 8.0, β = 60.5\n",
            "Posterior 95% confidence interval over λ: [0.1, 0.2]\n",
            "Posterior λ = 0.13\n",
            "Posterior α = 6.0, β = 67.9\n",
            "Posterior 95% confidence interval over λ: [0.0, 0.2]\n",
            "Posterior λ = 0.09\n",
            "Posterior α = 9.0, β = 70.0\n",
            "Posterior 95% confidence interval over λ: [0.1, 0.2]\n",
            "Posterior λ = 0.13\n",
            "Posterior α = 8.0, β = 44.6\n",
            "Posterior 95% confidence interval over λ: [0.1, 0.3]\n",
            "Posterior λ = 0.18\n",
            "Posterior α = 22.0, β = 58.8\n",
            "Posterior 95% confidence interval over λ: [0.2, 0.5]\n",
            "Posterior λ = 0.37\n",
            "Posterior α = 43.0, β = 60.2\n",
            "Posterior 95% confidence interval over λ: [0.5, 0.9]\n",
            "Posterior λ = 0.71\n",
            "Posterior α = 97.0, β = 59.9\n",
            "Posterior 95% confidence interval over λ: [1.3, 2.0]\n",
            "Posterior λ = 1.62\n",
            "Posterior α = 190.0, β = 60.2\n",
            "Posterior 95% confidence interval over λ: [2.7, 3.6]\n",
            "Posterior λ = 3.16\n",
            "Posterior α = 275.0, β = 60.5\n",
            "Posterior 95% confidence interval over λ: [4.0, 5.1]\n",
            "Posterior λ = 4.55\n",
            "Posterior α = 345.0, β = 60.1\n",
            "Posterior 95% confidence interval over λ: [5.2, 6.4]\n",
            "Posterior λ = 5.74\n",
            "Posterior α = 488.0, β = 60.3\n",
            "Posterior 95% confidence interval over λ: [7.4, 8.8]\n",
            "Posterior λ = 8.10\n",
            "Posterior α = 893.0, β = 60.1\n",
            "Posterior 95% confidence interval over λ: [13.9, 15.9]\n",
            "Posterior λ = 14.86\n",
            "Posterior α = 870.0, β = 60.3\n",
            "Posterior 95% confidence interval over λ: [13.5, 15.4]\n",
            "Posterior λ = 14.44\n",
            "Posterior α = 402.0, β = 60.7\n",
            "Posterior 95% confidence interval over λ: [6.0, 7.3]\n",
            "Posterior λ = 6.62\n",
            "Posterior α = 207.0, β = 60.2\n",
            "Posterior 95% confidence interval over λ: [3.0, 3.9]\n",
            "Posterior λ = 3.44\n",
            "Posterior α = 170.0, β = 59.9\n",
            "Posterior 95% confidence interval over λ: [2.4, 3.3]\n",
            "Posterior λ = 2.84\n",
            "Posterior α = 262.0, β = 60.5\n",
            "Posterior 95% confidence interval over λ: [3.8, 4.9]\n",
            "Posterior λ = 4.33\n",
            "Posterior α = 431.0, β = 59.8\n",
            "Posterior 95% confidence interval over λ: [6.5, 7.9]\n",
            "Posterior λ = 7.21\n",
            "Posterior α = 580.0, β = 60.3\n",
            "Posterior 95% confidence interval over λ: [8.9, 10.4]\n",
            "Posterior λ = 9.63\n",
            "Posterior α = 384.0, β = 60.3\n",
            "Posterior 95% confidence interval over λ: [5.7, 7.0]\n",
            "Posterior λ = 6.37\n",
            "Posterior α = 137.0, β = 60.2\n",
            "Posterior 95% confidence interval over λ: [1.9, 2.7]\n",
            "Posterior λ = 2.27\n",
            "Posterior α = 46.0, β = 66.2\n",
            "Posterior 95% confidence interval over λ: [0.5, 0.9]\n",
            "Posterior λ = 0.69\n",
            "Posterior α = 29.0, β = 63.2\n",
            "Posterior 95% confidence interval over λ: [0.3, 0.6]\n",
            "Posterior λ = 0.46\n",
            "Posterior α = 13.0, β = 53.4\n",
            "Posterior 95% confidence interval over λ: [0.1, 0.4]\n",
            "Posterior λ = 0.24\n"
          ],
          "name": "stdout"
        },
        {
          "output_type": "display_data",
          "data": {
            "image/png": "[encoded data removed]",
            "text/plain": [
              "<matplotlib.figure.Figure at 0x7f610bf78208>"
            ]
          },
          "metadata": {
            "tags": []
          }
        }
      ]
    },
    {
      "metadata": {
        "id": "YBKmX6SNVS4c",
        "colab_type": "text"
      },
      "cell_type": "markdown",
      "source": [
        "From the above plot we can see that during the early hours of the morning from 1am we can expect very few calls with great certainity until 5am. As it aspproches 6am we would like to begin staffing the call canter with more agents as the number of calls starts increasing. From 6 am until 8pm, there is a fluctuating amount of calls, with the most amount of calls being received between 11am and 12 noon. During these hours we can see that the call volunme increases with the average waiting time of the call increasing to 14.86 - 14.44 minutes on average being the waiting time. This waiting time fluctuates greatly and can vary depending on the number of calls received. This goes to show that the maximum staffing should occur during these hours. After 8pm, there is a very low rate of calls mimicing the eaerly morning, with the average call wait time being much less (in the range of 0.69 to 0.24 minutes), hence illustrating that very little staffing is required during these hours. "
      ]
    }
  ]
}